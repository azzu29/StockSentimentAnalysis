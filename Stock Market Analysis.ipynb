{
 "cells": [
  {
   "cell_type": "markdown",
   "id": "2f047a53",
   "metadata": {},
   "source": [
    "<center>\n",
    "<h1>\n",
    "  STOCK MARKET SENTIMENT ANALYSIS  \n",
    "</h1>\n",
    "</center>"
   ]
  },
  {
   "cell_type": "markdown",
   "id": "3ba75039",
   "metadata": {},
   "source": [
    "<h4> \n",
    "   ----> We are predicting the stock market based on the model using the historical data and sentiment analysis news headlings related to a particular stock.This data contains the world news.It ranges from 2008 to 2016 and was scrapped from Yahoo Finance.\n",
    "    </h4>"
   ]
  },
  {
   "cell_type": "code",
   "execution_count": 72,
   "id": "8ec9c5a8",
   "metadata": {},
   "outputs": [],
   "source": [
    "#https://www.kaggle.com/datasets/aaron7sun/stocknews?resource=download\n",
    "import pandas as pd"
   ]
  },
  {
   "cell_type": "code",
   "execution_count": 9,
   "id": "ffdb0dfa",
   "metadata": {},
   "outputs": [],
   "source": [
    "#df=pd.read_csv('Data.csv', encoding = \"ISO-8859-1\")\n",
    "\n",
    "df = pd.read_csv('Data.csv', encoding = \"ISO-8859-1\")"
   ]
  },
  {
   "cell_type": "code",
   "execution_count": 10,
   "id": "e2480749",
   "metadata": {},
   "outputs": [
    {
     "data": {
      "text/html": [
       "<div>\n",
       "<style scoped>\n",
       "    .dataframe tbody tr th:only-of-type {\n",
       "        vertical-align: middle;\n",
       "    }\n",
       "\n",
       "    .dataframe tbody tr th {\n",
       "        vertical-align: top;\n",
       "    }\n",
       "\n",
       "    .dataframe thead th {\n",
       "        text-align: right;\n",
       "    }\n",
       "</style>\n",
       "<table border=\"1\" class=\"dataframe\">\n",
       "  <thead>\n",
       "    <tr style=\"text-align: right;\">\n",
       "      <th></th>\n",
       "      <th>Date</th>\n",
       "      <th>Label</th>\n",
       "      <th>Top1</th>\n",
       "      <th>Top2</th>\n",
       "      <th>Top3</th>\n",
       "      <th>Top4</th>\n",
       "      <th>Top5</th>\n",
       "      <th>Top6</th>\n",
       "      <th>Top7</th>\n",
       "      <th>Top8</th>\n",
       "      <th>...</th>\n",
       "      <th>Top16</th>\n",
       "      <th>Top17</th>\n",
       "      <th>Top18</th>\n",
       "      <th>Top19</th>\n",
       "      <th>Top20</th>\n",
       "      <th>Top21</th>\n",
       "      <th>Top22</th>\n",
       "      <th>Top23</th>\n",
       "      <th>Top24</th>\n",
       "      <th>Top25</th>\n",
       "    </tr>\n",
       "  </thead>\n",
       "  <tbody>\n",
       "    <tr>\n",
       "      <th>0</th>\n",
       "      <td>2000-01-03</td>\n",
       "      <td>0</td>\n",
       "      <td>A 'hindrance to operations': extracts from the...</td>\n",
       "      <td>Scorecard</td>\n",
       "      <td>Hughes' instant hit buoys Blues</td>\n",
       "      <td>Jack gets his skates on at ice-cold Alex</td>\n",
       "      <td>Chaos as Maracana builds up for United</td>\n",
       "      <td>Depleted Leicester prevail as Elliott spoils E...</td>\n",
       "      <td>Hungry Spurs sense rich pickings</td>\n",
       "      <td>Gunners so wide of an easy target</td>\n",
       "      <td>...</td>\n",
       "      <td>Flintoff injury piles on woe for England</td>\n",
       "      <td>Hunters threaten Jospin with new battle of the...</td>\n",
       "      <td>Kohl's successor drawn into scandal</td>\n",
       "      <td>The difference between men and women</td>\n",
       "      <td>Sara Denver, nurse turned solicitor</td>\n",
       "      <td>Diana's landmine crusade put Tories in a panic</td>\n",
       "      <td>Yeltsin's resignation caught opposition flat-f...</td>\n",
       "      <td>Russian roulette</td>\n",
       "      <td>Sold out</td>\n",
       "      <td>Recovering a title</td>\n",
       "    </tr>\n",
       "    <tr>\n",
       "      <th>1</th>\n",
       "      <td>2000-01-04</td>\n",
       "      <td>0</td>\n",
       "      <td>Scorecard</td>\n",
       "      <td>The best lake scene</td>\n",
       "      <td>Leader: German sleaze inquiry</td>\n",
       "      <td>Cheerio, boyo</td>\n",
       "      <td>The main recommendations</td>\n",
       "      <td>Has Cubie killed fees?</td>\n",
       "      <td>Has Cubie killed fees?</td>\n",
       "      <td>Has Cubie killed fees?</td>\n",
       "      <td>...</td>\n",
       "      <td>On the critical list</td>\n",
       "      <td>The timing of their lives</td>\n",
       "      <td>Dear doctor</td>\n",
       "      <td>Irish court halts IRA man's extradition to Nor...</td>\n",
       "      <td>Burundi peace initiative fades after rebels re...</td>\n",
       "      <td>PE points the way forward to the ECB</td>\n",
       "      <td>Campaigners keep up pressure on Nazi war crime...</td>\n",
       "      <td>Jane Ratcliffe</td>\n",
       "      <td>Yet more things you wouldn't know without the ...</td>\n",
       "      <td>Millennium bug fails to bite</td>\n",
       "    </tr>\n",
       "    <tr>\n",
       "      <th>2</th>\n",
       "      <td>2000-01-05</td>\n",
       "      <td>0</td>\n",
       "      <td>Coventry caught on counter by Flo</td>\n",
       "      <td>United's rivals on the road to Rio</td>\n",
       "      <td>Thatcher issues defence before trial by video</td>\n",
       "      <td>Police help Smith lay down the law at Everton</td>\n",
       "      <td>Tale of Trautmann bears two more retellings</td>\n",
       "      <td>England on the rack</td>\n",
       "      <td>Pakistan retaliate with call for video of Walsh</td>\n",
       "      <td>Cullinan continues his Cape monopoly</td>\n",
       "      <td>...</td>\n",
       "      <td>South Melbourne (Australia)</td>\n",
       "      <td>Necaxa (Mexico)</td>\n",
       "      <td>Real Madrid (Spain)</td>\n",
       "      <td>Raja Casablanca (Morocco)</td>\n",
       "      <td>Corinthians (Brazil)</td>\n",
       "      <td>Tony's pet project</td>\n",
       "      <td>Al Nassr (Saudi Arabia)</td>\n",
       "      <td>Ideal Holmes show</td>\n",
       "      <td>Pinochet leaves hospital after tests</td>\n",
       "      <td>Useful links</td>\n",
       "    </tr>\n",
       "    <tr>\n",
       "      <th>3</th>\n",
       "      <td>2000-01-06</td>\n",
       "      <td>1</td>\n",
       "      <td>Pilgrim knows how to progress</td>\n",
       "      <td>Thatcher facing ban</td>\n",
       "      <td>McIlroy calls for Irish fighting spirit</td>\n",
       "      <td>Leicester bin stadium blueprint</td>\n",
       "      <td>United braced for Mexican wave</td>\n",
       "      <td>Auntie back in fashion, even if the dress look...</td>\n",
       "      <td>Shoaib appeal goes to the top</td>\n",
       "      <td>Hussain hurt by 'shambles' but lays blame on e...</td>\n",
       "      <td>...</td>\n",
       "      <td>Putin admits Yeltsin quit to give him a head s...</td>\n",
       "      <td>BBC worst hit as digital TV begins to bite</td>\n",
       "      <td>How much can you pay for...</td>\n",
       "      <td>Christmas glitches</td>\n",
       "      <td>Upending a table, Chopping a line and Scoring ...</td>\n",
       "      <td>Scientific evidence 'unreliable', defence claims</td>\n",
       "      <td>Fusco wins judicial review in extradition case</td>\n",
       "      <td>Rebels thwart Russian advance</td>\n",
       "      <td>Blair orders shake-up of failing NHS</td>\n",
       "      <td>Lessons of law's hard heart</td>\n",
       "    </tr>\n",
       "    <tr>\n",
       "      <th>4</th>\n",
       "      <td>2000-01-07</td>\n",
       "      <td>1</td>\n",
       "      <td>Hitches and Horlocks</td>\n",
       "      <td>Beckham off but United survive</td>\n",
       "      <td>Breast cancer screening</td>\n",
       "      <td>Alan Parker</td>\n",
       "      <td>Guardian readers: are you all whingers?</td>\n",
       "      <td>Hollywood Beyond</td>\n",
       "      <td>Ashes and diamonds</td>\n",
       "      <td>Whingers - a formidable minority</td>\n",
       "      <td>...</td>\n",
       "      <td>Most everywhere:  UDIs</td>\n",
       "      <td>Most wanted:  Chloe lunettes</td>\n",
       "      <td>Return of the cane 'completely off the agenda'</td>\n",
       "      <td>From Sleepy Hollow to Greeneland</td>\n",
       "      <td>Blunkett outlines vision for over 11s</td>\n",
       "      <td>Embattled Dobson attacks 'play now, pay later'...</td>\n",
       "      <td>Doom and the Dome</td>\n",
       "      <td>What is the north-south divide?</td>\n",
       "      <td>Aitken released from jail</td>\n",
       "      <td>Gone aloft</td>\n",
       "    </tr>\n",
       "  </tbody>\n",
       "</table>\n",
       "<p>5 rows × 27 columns</p>\n",
       "</div>"
      ],
      "text/plain": [
       "         Date  Label                                               Top1  \\\n",
       "0  2000-01-03      0  A 'hindrance to operations': extracts from the...   \n",
       "1  2000-01-04      0                                          Scorecard   \n",
       "2  2000-01-05      0                  Coventry caught on counter by Flo   \n",
       "3  2000-01-06      1                      Pilgrim knows how to progress   \n",
       "4  2000-01-07      1                               Hitches and Horlocks   \n",
       "\n",
       "                                 Top2  \\\n",
       "0                           Scorecard   \n",
       "1                 The best lake scene   \n",
       "2  United's rivals on the road to Rio   \n",
       "3                 Thatcher facing ban   \n",
       "4      Beckham off but United survive   \n",
       "\n",
       "                                            Top3  \\\n",
       "0                Hughes' instant hit buoys Blues   \n",
       "1                  Leader: German sleaze inquiry   \n",
       "2  Thatcher issues defence before trial by video   \n",
       "3        McIlroy calls for Irish fighting spirit   \n",
       "4                        Breast cancer screening   \n",
       "\n",
       "                                            Top4  \\\n",
       "0       Jack gets his skates on at ice-cold Alex   \n",
       "1                                  Cheerio, boyo   \n",
       "2  Police help Smith lay down the law at Everton   \n",
       "3                Leicester bin stadium blueprint   \n",
       "4                                    Alan Parker   \n",
       "\n",
       "                                          Top5  \\\n",
       "0       Chaos as Maracana builds up for United   \n",
       "1                     The main recommendations   \n",
       "2  Tale of Trautmann bears two more retellings   \n",
       "3               United braced for Mexican wave   \n",
       "4      Guardian readers: are you all whingers?   \n",
       "\n",
       "                                                Top6  \\\n",
       "0  Depleted Leicester prevail as Elliott spoils E...   \n",
       "1                             Has Cubie killed fees?   \n",
       "2                                England on the rack   \n",
       "3  Auntie back in fashion, even if the dress look...   \n",
       "4                                   Hollywood Beyond   \n",
       "\n",
       "                                              Top7  \\\n",
       "0                 Hungry Spurs sense rich pickings   \n",
       "1                           Has Cubie killed fees?   \n",
       "2  Pakistan retaliate with call for video of Walsh   \n",
       "3                    Shoaib appeal goes to the top   \n",
       "4                               Ashes and diamonds   \n",
       "\n",
       "                                                Top8  ...  \\\n",
       "0                  Gunners so wide of an easy target  ...   \n",
       "1                             Has Cubie killed fees?  ...   \n",
       "2               Cullinan continues his Cape monopoly  ...   \n",
       "3  Hussain hurt by 'shambles' but lays blame on e...  ...   \n",
       "4                   Whingers - a formidable minority  ...   \n",
       "\n",
       "                                               Top16  \\\n",
       "0           Flintoff injury piles on woe for England   \n",
       "1                               On the critical list   \n",
       "2                        South Melbourne (Australia)   \n",
       "3  Putin admits Yeltsin quit to give him a head s...   \n",
       "4                             Most everywhere:  UDIs   \n",
       "\n",
       "                                               Top17  \\\n",
       "0  Hunters threaten Jospin with new battle of the...   \n",
       "1                          The timing of their lives   \n",
       "2                                    Necaxa (Mexico)   \n",
       "3         BBC worst hit as digital TV begins to bite   \n",
       "4                       Most wanted:  Chloe lunettes   \n",
       "\n",
       "                                            Top18  \\\n",
       "0             Kohl's successor drawn into scandal   \n",
       "1                                     Dear doctor   \n",
       "2                             Real Madrid (Spain)   \n",
       "3                     How much can you pay for...   \n",
       "4  Return of the cane 'completely off the agenda'   \n",
       "\n",
       "                                               Top19  \\\n",
       "0               The difference between men and women   \n",
       "1  Irish court halts IRA man's extradition to Nor...   \n",
       "2                          Raja Casablanca (Morocco)   \n",
       "3                                 Christmas glitches   \n",
       "4                   From Sleepy Hollow to Greeneland   \n",
       "\n",
       "                                               Top20  \\\n",
       "0                Sara Denver, nurse turned solicitor   \n",
       "1  Burundi peace initiative fades after rebels re...   \n",
       "2                               Corinthians (Brazil)   \n",
       "3  Upending a table, Chopping a line and Scoring ...   \n",
       "4              Blunkett outlines vision for over 11s   \n",
       "\n",
       "                                               Top21  \\\n",
       "0     Diana's landmine crusade put Tories in a panic   \n",
       "1               PE points the way forward to the ECB   \n",
       "2                                 Tony's pet project   \n",
       "3   Scientific evidence 'unreliable', defence claims   \n",
       "4  Embattled Dobson attacks 'play now, pay later'...   \n",
       "\n",
       "                                               Top22  \\\n",
       "0  Yeltsin's resignation caught opposition flat-f...   \n",
       "1  Campaigners keep up pressure on Nazi war crime...   \n",
       "2                            Al Nassr (Saudi Arabia)   \n",
       "3     Fusco wins judicial review in extradition case   \n",
       "4                                  Doom and the Dome   \n",
       "\n",
       "                             Top23  \\\n",
       "0                 Russian roulette   \n",
       "1                   Jane Ratcliffe   \n",
       "2                Ideal Holmes show   \n",
       "3    Rebels thwart Russian advance   \n",
       "4  What is the north-south divide?   \n",
       "\n",
       "                                               Top24  \\\n",
       "0                                           Sold out   \n",
       "1  Yet more things you wouldn't know without the ...   \n",
       "2               Pinochet leaves hospital after tests   \n",
       "3               Blair orders shake-up of failing NHS   \n",
       "4                          Aitken released from jail   \n",
       "\n",
       "                          Top25  \n",
       "0            Recovering a title  \n",
       "1  Millennium bug fails to bite  \n",
       "2                  Useful links  \n",
       "3   Lessons of law's hard heart  \n",
       "4                    Gone aloft  \n",
       "\n",
       "[5 rows x 27 columns]"
      ]
     },
     "execution_count": 10,
     "metadata": {},
     "output_type": "execute_result"
    }
   ],
   "source": [
    "df.head()"
   ]
  },
  {
   "cell_type": "code",
   "execution_count": 25,
   "id": "0cf9e010",
   "metadata": {},
   "outputs": [],
   "source": [
    "train = df[df['Date'] < '20150101']\n",
    "test = df[df['Date'] > '20141231']"
   ]
  },
  {
   "cell_type": "code",
   "execution_count": 12,
   "id": "ad3a1ac2",
   "metadata": {},
   "outputs": [
    {
     "data": {
      "text/html": [
       "<div>\n",
       "<style scoped>\n",
       "    .dataframe tbody tr th:only-of-type {\n",
       "        vertical-align: middle;\n",
       "    }\n",
       "\n",
       "    .dataframe tbody tr th {\n",
       "        vertical-align: top;\n",
       "    }\n",
       "\n",
       "    .dataframe thead th {\n",
       "        text-align: right;\n",
       "    }\n",
       "</style>\n",
       "<table border=\"1\" class=\"dataframe\">\n",
       "  <thead>\n",
       "    <tr style=\"text-align: right;\">\n",
       "      <th></th>\n",
       "      <th>0</th>\n",
       "      <th>1</th>\n",
       "      <th>2</th>\n",
       "      <th>3</th>\n",
       "      <th>4</th>\n",
       "      <th>5</th>\n",
       "      <th>6</th>\n",
       "      <th>7</th>\n",
       "      <th>8</th>\n",
       "      <th>9</th>\n",
       "      <th>...</th>\n",
       "      <th>15</th>\n",
       "      <th>16</th>\n",
       "      <th>17</th>\n",
       "      <th>18</th>\n",
       "      <th>19</th>\n",
       "      <th>20</th>\n",
       "      <th>21</th>\n",
       "      <th>22</th>\n",
       "      <th>23</th>\n",
       "      <th>24</th>\n",
       "    </tr>\n",
       "  </thead>\n",
       "  <tbody>\n",
       "    <tr>\n",
       "      <th>0</th>\n",
       "      <td>A  hindrance to operations   extracts from the...</td>\n",
       "      <td>Scorecard</td>\n",
       "      <td>Hughes  instant hit buoys Blues</td>\n",
       "      <td>Jack gets his skates on at ice cold Alex</td>\n",
       "      <td>Chaos as Maracana builds up for United</td>\n",
       "      <td>Depleted Leicester prevail as Elliott spoils E...</td>\n",
       "      <td>Hungry Spurs sense rich pickings</td>\n",
       "      <td>Gunners so wide of an easy target</td>\n",
       "      <td>Derby raise a glass to Strupar s debut double</td>\n",
       "      <td>Southgate strikes  Leeds pay the penalty</td>\n",
       "      <td>...</td>\n",
       "      <td>Flintoff injury piles on woe for England</td>\n",
       "      <td>Hunters threaten Jospin with new battle of the...</td>\n",
       "      <td>Kohl s successor drawn into scandal</td>\n",
       "      <td>The difference between men and women</td>\n",
       "      <td>Sara Denver  nurse turned solicitor</td>\n",
       "      <td>Diana s landmine crusade put Tories in a panic</td>\n",
       "      <td>Yeltsin s resignation caught opposition flat f...</td>\n",
       "      <td>Russian roulette</td>\n",
       "      <td>Sold out</td>\n",
       "      <td>Recovering a title</td>\n",
       "    </tr>\n",
       "    <tr>\n",
       "      <th>1</th>\n",
       "      <td>Scorecard</td>\n",
       "      <td>The best lake scene</td>\n",
       "      <td>Leader  German sleaze inquiry</td>\n",
       "      <td>Cheerio  boyo</td>\n",
       "      <td>The main recommendations</td>\n",
       "      <td>Has Cubie killed fees</td>\n",
       "      <td>Has Cubie killed fees</td>\n",
       "      <td>Has Cubie killed fees</td>\n",
       "      <td>Hopkins  furious  at Foster s lack of Hannibal...</td>\n",
       "      <td>Has Cubie killed fees</td>\n",
       "      <td>...</td>\n",
       "      <td>On the critical list</td>\n",
       "      <td>The timing of their lives</td>\n",
       "      <td>Dear doctor</td>\n",
       "      <td>Irish court halts IRA man s extradition to Nor...</td>\n",
       "      <td>Burundi peace initiative fades after rebels re...</td>\n",
       "      <td>PE points the way forward to the ECB</td>\n",
       "      <td>Campaigners keep up pressure on Nazi war crime...</td>\n",
       "      <td>Jane Ratcliffe</td>\n",
       "      <td>Yet more things you wouldn t know without the ...</td>\n",
       "      <td>Millennium bug fails to bite</td>\n",
       "    </tr>\n",
       "    <tr>\n",
       "      <th>2</th>\n",
       "      <td>Coventry caught on counter by Flo</td>\n",
       "      <td>United s rivals on the road to Rio</td>\n",
       "      <td>Thatcher issues defence before trial by video</td>\n",
       "      <td>Police help Smith lay down the law at Everton</td>\n",
       "      <td>Tale of Trautmann bears two more retellings</td>\n",
       "      <td>England on the rack</td>\n",
       "      <td>Pakistan retaliate with call for video of Walsh</td>\n",
       "      <td>Cullinan continues his Cape monopoly</td>\n",
       "      <td>McGrath puts India out of their misery</td>\n",
       "      <td>Blair Witch bandwagon rolls on</td>\n",
       "      <td>...</td>\n",
       "      <td>South Melbourne  Australia</td>\n",
       "      <td>Necaxa  Mexico</td>\n",
       "      <td>Real Madrid  Spain</td>\n",
       "      <td>Raja Casablanca  Morocco</td>\n",
       "      <td>Corinthians  Brazil</td>\n",
       "      <td>Tony s pet project</td>\n",
       "      <td>Al Nassr  Saudi Arabia</td>\n",
       "      <td>Ideal Holmes show</td>\n",
       "      <td>Pinochet leaves hospital after tests</td>\n",
       "      <td>Useful links</td>\n",
       "    </tr>\n",
       "    <tr>\n",
       "      <th>3</th>\n",
       "      <td>Pilgrim knows how to progress</td>\n",
       "      <td>Thatcher facing ban</td>\n",
       "      <td>McIlroy calls for Irish fighting spirit</td>\n",
       "      <td>Leicester bin stadium blueprint</td>\n",
       "      <td>United braced for Mexican wave</td>\n",
       "      <td>Auntie back in fashion  even if the dress look...</td>\n",
       "      <td>Shoaib appeal goes to the top</td>\n",
       "      <td>Hussain hurt by  shambles  but lays blame on e...</td>\n",
       "      <td>England s decade of disasters</td>\n",
       "      <td>Revenge is sweet for jubilant Cronje</td>\n",
       "      <td>...</td>\n",
       "      <td>Putin admits Yeltsin quit to give him a head s...</td>\n",
       "      <td>BBC worst hit as digital TV begins to bite</td>\n",
       "      <td>How much can you pay for</td>\n",
       "      <td>Christmas glitches</td>\n",
       "      <td>Upending a table  Chopping a line and Scoring ...</td>\n",
       "      <td>Scientific evidence  unreliable   defence claims</td>\n",
       "      <td>Fusco wins judicial review in extradition case</td>\n",
       "      <td>Rebels thwart Russian advance</td>\n",
       "      <td>Blair orders shake up of failing NHS</td>\n",
       "      <td>Lessons of law s hard heart</td>\n",
       "    </tr>\n",
       "    <tr>\n",
       "      <th>4</th>\n",
       "      <td>Hitches and Horlocks</td>\n",
       "      <td>Beckham off but United survive</td>\n",
       "      <td>Breast cancer screening</td>\n",
       "      <td>Alan Parker</td>\n",
       "      <td>Guardian readers  are you all whingers</td>\n",
       "      <td>Hollywood Beyond</td>\n",
       "      <td>Ashes and diamonds</td>\n",
       "      <td>Whingers   a formidable minority</td>\n",
       "      <td>Alan Parker   part two</td>\n",
       "      <td>Thuggery  Toxins and Ties</td>\n",
       "      <td>...</td>\n",
       "      <td>Most everywhere   UDIs</td>\n",
       "      <td>Most wanted   Chloe lunettes</td>\n",
       "      <td>Return of the cane  completely off the agenda</td>\n",
       "      <td>From Sleepy Hollow to Greeneland</td>\n",
       "      <td>Blunkett outlines vision for over   s</td>\n",
       "      <td>Embattled Dobson attacks  play now  pay later ...</td>\n",
       "      <td>Doom and the Dome</td>\n",
       "      <td>What is the north south divide</td>\n",
       "      <td>Aitken released from jail</td>\n",
       "      <td>Gone aloft</td>\n",
       "    </tr>\n",
       "  </tbody>\n",
       "</table>\n",
       "<p>5 rows × 25 columns</p>\n",
       "</div>"
      ],
      "text/plain": [
       "                                                   0  \\\n",
       "0  A  hindrance to operations   extracts from the...   \n",
       "1                                          Scorecard   \n",
       "2                  Coventry caught on counter by Flo   \n",
       "3                      Pilgrim knows how to progress   \n",
       "4                               Hitches and Horlocks   \n",
       "\n",
       "                                    1  \\\n",
       "0                           Scorecard   \n",
       "1                 The best lake scene   \n",
       "2  United s rivals on the road to Rio   \n",
       "3                 Thatcher facing ban   \n",
       "4      Beckham off but United survive   \n",
       "\n",
       "                                               2  \\\n",
       "0                Hughes  instant hit buoys Blues   \n",
       "1                  Leader  German sleaze inquiry   \n",
       "2  Thatcher issues defence before trial by video   \n",
       "3        McIlroy calls for Irish fighting spirit   \n",
       "4                        Breast cancer screening   \n",
       "\n",
       "                                               3  \\\n",
       "0       Jack gets his skates on at ice cold Alex   \n",
       "1                                  Cheerio  boyo   \n",
       "2  Police help Smith lay down the law at Everton   \n",
       "3                Leicester bin stadium blueprint   \n",
       "4                                    Alan Parker   \n",
       "\n",
       "                                             4  \\\n",
       "0       Chaos as Maracana builds up for United   \n",
       "1                     The main recommendations   \n",
       "2  Tale of Trautmann bears two more retellings   \n",
       "3               United braced for Mexican wave   \n",
       "4      Guardian readers  are you all whingers    \n",
       "\n",
       "                                                   5  \\\n",
       "0  Depleted Leicester prevail as Elliott spoils E...   \n",
       "1                             Has Cubie killed fees    \n",
       "2                                England on the rack   \n",
       "3  Auntie back in fashion  even if the dress look...   \n",
       "4                                   Hollywood Beyond   \n",
       "\n",
       "                                                 6  \\\n",
       "0                 Hungry Spurs sense rich pickings   \n",
       "1                           Has Cubie killed fees    \n",
       "2  Pakistan retaliate with call for video of Walsh   \n",
       "3                    Shoaib appeal goes to the top   \n",
       "4                               Ashes and diamonds   \n",
       "\n",
       "                                                   7  \\\n",
       "0                  Gunners so wide of an easy target   \n",
       "1                             Has Cubie killed fees    \n",
       "2               Cullinan continues his Cape monopoly   \n",
       "3  Hussain hurt by  shambles  but lays blame on e...   \n",
       "4                   Whingers   a formidable minority   \n",
       "\n",
       "                                                   8  \\\n",
       "0      Derby raise a glass to Strupar s debut double   \n",
       "1  Hopkins  furious  at Foster s lack of Hannibal...   \n",
       "2             McGrath puts India out of their misery   \n",
       "3                      England s decade of disasters   \n",
       "4                             Alan Parker   part two   \n",
       "\n",
       "                                          9  ...  \\\n",
       "0  Southgate strikes  Leeds pay the penalty  ...   \n",
       "1                    Has Cubie killed fees   ...   \n",
       "2            Blair Witch bandwagon rolls on  ...   \n",
       "3      Revenge is sweet for jubilant Cronje  ...   \n",
       "4                 Thuggery  Toxins and Ties  ...   \n",
       "\n",
       "                                                  15  \\\n",
       "0           Flintoff injury piles on woe for England   \n",
       "1                               On the critical list   \n",
       "2                        South Melbourne  Australia    \n",
       "3  Putin admits Yeltsin quit to give him a head s...   \n",
       "4                             Most everywhere   UDIs   \n",
       "\n",
       "                                                  16  \\\n",
       "0  Hunters threaten Jospin with new battle of the...   \n",
       "1                          The timing of their lives   \n",
       "2                                    Necaxa  Mexico    \n",
       "3         BBC worst hit as digital TV begins to bite   \n",
       "4                       Most wanted   Chloe lunettes   \n",
       "\n",
       "                                               17  \\\n",
       "0             Kohl s successor drawn into scandal   \n",
       "1                                     Dear doctor   \n",
       "2                             Real Madrid  Spain    \n",
       "3                     How much can you pay for      \n",
       "4  Return of the cane  completely off the agenda    \n",
       "\n",
       "                                                  18  \\\n",
       "0               The difference between men and women   \n",
       "1  Irish court halts IRA man s extradition to Nor...   \n",
       "2                          Raja Casablanca  Morocco    \n",
       "3                                 Christmas glitches   \n",
       "4                   From Sleepy Hollow to Greeneland   \n",
       "\n",
       "                                                  19  \\\n",
       "0                Sara Denver  nurse turned solicitor   \n",
       "1  Burundi peace initiative fades after rebels re...   \n",
       "2                               Corinthians  Brazil    \n",
       "3  Upending a table  Chopping a line and Scoring ...   \n",
       "4              Blunkett outlines vision for over   s   \n",
       "\n",
       "                                                  20  \\\n",
       "0     Diana s landmine crusade put Tories in a panic   \n",
       "1               PE points the way forward to the ECB   \n",
       "2                                 Tony s pet project   \n",
       "3   Scientific evidence  unreliable   defence claims   \n",
       "4  Embattled Dobson attacks  play now  pay later ...   \n",
       "\n",
       "                                                  21  \\\n",
       "0  Yeltsin s resignation caught opposition flat f...   \n",
       "1  Campaigners keep up pressure on Nazi war crime...   \n",
       "2                            Al Nassr  Saudi Arabia    \n",
       "3     Fusco wins judicial review in extradition case   \n",
       "4                                  Doom and the Dome   \n",
       "\n",
       "                                22  \\\n",
       "0                 Russian roulette   \n",
       "1                   Jane Ratcliffe   \n",
       "2                Ideal Holmes show   \n",
       "3    Rebels thwart Russian advance   \n",
       "4  What is the north south divide    \n",
       "\n",
       "                                                  23  \\\n",
       "0                                           Sold out   \n",
       "1  Yet more things you wouldn t know without the ...   \n",
       "2               Pinochet leaves hospital after tests   \n",
       "3               Blair orders shake up of failing NHS   \n",
       "4                          Aitken released from jail   \n",
       "\n",
       "                             24  \n",
       "0            Recovering a title  \n",
       "1  Millennium bug fails to bite  \n",
       "2                  Useful links  \n",
       "3   Lessons of law s hard heart  \n",
       "4                    Gone aloft  \n",
       "\n",
       "[5 rows x 25 columns]"
      ]
     },
     "execution_count": 12,
     "metadata": {},
     "output_type": "execute_result"
    }
   ],
   "source": [
    "# Removing punctuations\n",
    "data=train.iloc[:,2:27]\n",
    "data.replace(\"[^a-zA-Z]\",\" \",regex=True, inplace=True)\n",
    "\n",
    "# Renaming column names for ease of access\n",
    "list1= [i for i in range(25)]\n",
    "new_Index=[str(i) for i in list1]\n",
    "data.columns= new_Index\n",
    "data.head(5)"
   ]
  },
  {
   "cell_type": "code",
   "execution_count": 13,
   "id": "32e79804",
   "metadata": {},
   "outputs": [
    {
     "data": {
      "text/html": [
       "<div>\n",
       "<style scoped>\n",
       "    .dataframe tbody tr th:only-of-type {\n",
       "        vertical-align: middle;\n",
       "    }\n",
       "\n",
       "    .dataframe tbody tr th {\n",
       "        vertical-align: top;\n",
       "    }\n",
       "\n",
       "    .dataframe thead th {\n",
       "        text-align: right;\n",
       "    }\n",
       "</style>\n",
       "<table border=\"1\" class=\"dataframe\">\n",
       "  <thead>\n",
       "    <tr style=\"text-align: right;\">\n",
       "      <th></th>\n",
       "      <th>0</th>\n",
       "      <th>1</th>\n",
       "      <th>2</th>\n",
       "      <th>3</th>\n",
       "      <th>4</th>\n",
       "      <th>5</th>\n",
       "      <th>6</th>\n",
       "      <th>7</th>\n",
       "      <th>8</th>\n",
       "      <th>9</th>\n",
       "      <th>...</th>\n",
       "      <th>15</th>\n",
       "      <th>16</th>\n",
       "      <th>17</th>\n",
       "      <th>18</th>\n",
       "      <th>19</th>\n",
       "      <th>20</th>\n",
       "      <th>21</th>\n",
       "      <th>22</th>\n",
       "      <th>23</th>\n",
       "      <th>24</th>\n",
       "    </tr>\n",
       "  </thead>\n",
       "  <tbody>\n",
       "    <tr>\n",
       "      <th>0</th>\n",
       "      <td>a  hindrance to operations   extracts from the...</td>\n",
       "      <td>scorecard</td>\n",
       "      <td>hughes  instant hit buoys blues</td>\n",
       "      <td>jack gets his skates on at ice cold alex</td>\n",
       "      <td>chaos as maracana builds up for united</td>\n",
       "      <td>depleted leicester prevail as elliott spoils e...</td>\n",
       "      <td>hungry spurs sense rich pickings</td>\n",
       "      <td>gunners so wide of an easy target</td>\n",
       "      <td>derby raise a glass to strupar s debut double</td>\n",
       "      <td>southgate strikes  leeds pay the penalty</td>\n",
       "      <td>...</td>\n",
       "      <td>flintoff injury piles on woe for england</td>\n",
       "      <td>hunters threaten jospin with new battle of the...</td>\n",
       "      <td>kohl s successor drawn into scandal</td>\n",
       "      <td>the difference between men and women</td>\n",
       "      <td>sara denver  nurse turned solicitor</td>\n",
       "      <td>diana s landmine crusade put tories in a panic</td>\n",
       "      <td>yeltsin s resignation caught opposition flat f...</td>\n",
       "      <td>russian roulette</td>\n",
       "      <td>sold out</td>\n",
       "      <td>recovering a title</td>\n",
       "    </tr>\n",
       "  </tbody>\n",
       "</table>\n",
       "<p>1 rows × 25 columns</p>\n",
       "</div>"
      ],
      "text/plain": [
       "                                                   0          1  \\\n",
       "0  a  hindrance to operations   extracts from the...  scorecard   \n",
       "\n",
       "                                 2                                         3  \\\n",
       "0  hughes  instant hit buoys blues  jack gets his skates on at ice cold alex   \n",
       "\n",
       "                                        4  \\\n",
       "0  chaos as maracana builds up for united   \n",
       "\n",
       "                                                   5  \\\n",
       "0  depleted leicester prevail as elliott spoils e...   \n",
       "\n",
       "                                  6                                  7  \\\n",
       "0  hungry spurs sense rich pickings  gunners so wide of an easy target   \n",
       "\n",
       "                                               8  \\\n",
       "0  derby raise a glass to strupar s debut double   \n",
       "\n",
       "                                          9  ...  \\\n",
       "0  southgate strikes  leeds pay the penalty  ...   \n",
       "\n",
       "                                         15  \\\n",
       "0  flintoff injury piles on woe for england   \n",
       "\n",
       "                                                  16  \\\n",
       "0  hunters threaten jospin with new battle of the...   \n",
       "\n",
       "                                    17                                    18  \\\n",
       "0  kohl s successor drawn into scandal  the difference between men and women   \n",
       "\n",
       "                                    19  \\\n",
       "0  sara denver  nurse turned solicitor   \n",
       "\n",
       "                                               20  \\\n",
       "0  diana s landmine crusade put tories in a panic   \n",
       "\n",
       "                                                  21                22  \\\n",
       "0  yeltsin s resignation caught opposition flat f...  russian roulette   \n",
       "\n",
       "         23                  24  \n",
       "0  sold out  recovering a title  \n",
       "\n",
       "[1 rows x 25 columns]"
      ]
     },
     "execution_count": 13,
     "metadata": {},
     "output_type": "execute_result"
    }
   ],
   "source": [
    "# Convertng headlines to lower case\n",
    "for index in new_Index:\n",
    "    data[index]=data[index].str.lower()\n",
    "data.head(1)"
   ]
  },
  {
   "cell_type": "code",
   "execution_count": 26,
   "id": "fd3b6f80",
   "metadata": {},
   "outputs": [
    {
     "data": {
      "text/plain": [
       "'scorecard the best lake scene leader  german sleaze inquiry cheerio  boyo the main recommendations has cubie killed fees  has cubie killed fees  has cubie killed fees  hopkins  furious  at foster s lack of hannibal appetite has cubie killed fees  a tale of two tails i say what i like and i like what i say elbows  eyes and nipples task force to assess risk of asteroid collision how i found myself at last on the critical list the timing of their lives dear doctor irish court halts ira man s extradition to northern ireland burundi peace initiative fades after rebels reject mandela as mediator pe points the way forward to the ecb campaigners keep up pressure on nazi war crimes suspect jane ratcliffe yet more things you wouldn t know without the movies millennium bug fails to bite'"
      ]
     },
     "execution_count": 26,
     "metadata": {},
     "output_type": "execute_result"
    }
   ],
   "source": [
    "' '.join(str(x) for x in data.iloc[1,0:25])"
   ]
  },
  {
   "cell_type": "code",
   "execution_count": 27,
   "id": "98342764",
   "metadata": {},
   "outputs": [],
   "source": [
    "headlines = []\n",
    "for row in range(0,len(data.index)):\n",
    "    headlines.append(' '.join(str(x) for x in data.iloc[row,0:25]))"
   ]
  },
  {
   "cell_type": "code",
   "execution_count": 33,
   "id": "5cbb5be6",
   "metadata": {},
   "outputs": [
    {
     "data": {
      "text/plain": [
       "'a  hindrance to operations   extracts from the leaked reports scorecard hughes  instant hit buoys blues jack gets his skates on at ice cold alex chaos as maracana builds up for united depleted leicester prevail as elliott spoils everton s party hungry spurs sense rich pickings gunners so wide of an easy target derby raise a glass to strupar s debut double southgate strikes  leeds pay the penalty hammers hand robson a youthful lesson saints party like it s      wear wolves have turned into lambs stump mike catches testy gough s taunt langer escapes to hit     flintoff injury piles on woe for england hunters threaten jospin with new battle of the somme kohl s successor drawn into scandal the difference between men and women sara denver  nurse turned solicitor diana s landmine crusade put tories in a panic yeltsin s resignation caught opposition flat footed russian roulette sold out recovering a title'"
      ]
     },
     "execution_count": 33,
     "metadata": {},
     "output_type": "execute_result"
    }
   ],
   "source": [
    "# Every individual column are combine into a sentence..And we are doing it individually too..\n",
    "\n",
    "headlines[0]"
   ]
  },
  {
   "cell_type": "code",
   "execution_count": 36,
   "id": "9fb98268",
   "metadata": {},
   "outputs": [
    {
     "data": {
      "text/plain": [
       "'scorecard the best lake scene leader  german sleaze inquiry cheerio  boyo the main recommendations has cubie killed fees  has cubie killed fees  has cubie killed fees  hopkins  furious  at foster s lack of hannibal appetite has cubie killed fees  a tale of two tails i say what i like and i like what i say elbows  eyes and nipples task force to assess risk of asteroid collision how i found myself at last on the critical list the timing of their lives dear doctor irish court halts ira man s extradition to northern ireland burundi peace initiative fades after rebels reject mandela as mediator pe points the way forward to the ecb campaigners keep up pressure on nazi war crimes suspect jane ratcliffe yet more things you wouldn t know without the movies millennium bug fails to bite'"
      ]
     },
     "execution_count": 36,
     "metadata": {},
     "output_type": "execute_result"
    }
   ],
   "source": [
    "headlines[1]"
   ]
  },
  {
   "cell_type": "code",
   "execution_count": 42,
   "id": "6597b3bb",
   "metadata": {},
   "outputs": [
    {
     "data": {
      "text/plain": [
       "'coventry caught on counter by flo united s rivals on the road to rio thatcher issues defence before trial by video police help smith lay down the law at everton tale of trautmann bears two more retellings england on the rack pakistan retaliate with call for video of walsh cullinan continues his cape monopoly mcgrath puts india out of their misery blair witch bandwagon rolls on pele turns up heat on ferguson party divided over kohl slush fund scandal manchester united  england  women in record south pole walk vasco da gama  brazil  south melbourne  australia  necaxa  mexico  real madrid  spain  raja casablanca  morocco  corinthians  brazil  tony s pet project al nassr  saudi arabia  ideal holmes show pinochet leaves hospital after tests useful links'"
      ]
     },
     "execution_count": 42,
     "metadata": {},
     "output_type": "execute_result"
    }
   ],
   "source": [
    "headlines[2]"
   ]
  },
  {
   "cell_type": "code",
   "execution_count": 49,
   "id": "4969719c",
   "metadata": {},
   "outputs": [
    {
     "data": {
      "text/plain": [
       "'pilgrim knows how to progress thatcher facing ban mcilroy calls for irish fighting spirit leicester bin stadium blueprint united braced for mexican wave auntie back in fashion  even if the dress looks a bit tatty shoaib appeal goes to the top hussain hurt by  shambles  but lays blame on earlier damage england s decade of disasters revenge is sweet for jubilant cronje our choice  not theirs profile of former us nazi party officer william pierce new evidence shows record of war crimes suspect was not investigated the rise of the supernerds written on the body putin admits yeltsin quit to give him a head start bbc worst hit as digital tv begins to bite how much can you pay for    christmas glitches upending a table  chopping a line and scoring a goal scientific evidence  unreliable   defence claims fusco wins judicial review in extradition case rebels thwart russian advance blair orders shake up of failing nhs lessons of law s hard heart'"
      ]
     },
     "execution_count": 49,
     "metadata": {},
     "output_type": "execute_result"
    }
   ],
   "source": [
    "headlines[3]"
   ]
  },
  {
   "cell_type": "code",
   "execution_count": 50,
   "id": "ae0832a0",
   "metadata": {},
   "outputs": [
    {
     "data": {
      "text/plain": [
       "'hitches and horlocks beckham off but united survive breast cancer screening alan parker guardian readers  are you all whingers  hollywood beyond ashes and diamonds whingers   a formidable minority alan parker   part two thuggery  toxins and ties met faces fresh attack on race crime everton fans top racist  league of shame  our breasts  ourselves russia s new boss has an extremely strange history always and forever most everywhere   udis most wanted   chloe lunettes return of the cane  completely off the agenda  from sleepy hollow to greeneland blunkett outlines vision for over   s embattled dobson attacks  play now  pay later  livingstone doom and the dome what is the north south divide  aitken released from jail gone aloft'"
      ]
     },
     "execution_count": 50,
     "metadata": {},
     "output_type": "execute_result"
    }
   ],
   "source": [
    "headlines[4]"
   ]
  },
  {
   "cell_type": "code",
   "execution_count": 51,
   "id": "643e23b0",
   "metadata": {},
   "outputs": [
    {
     "data": {
      "text/plain": [
       "'fifth round draw bbc unveils secret weapon in ratings war  south melbourne second division round up european round up third division round up welfare could claim killie tie as caley thistle land celtic ferguson puts brave face on rio meltdown southgate in striking form to pre empt penalties second bite for wolves scallywags have chelsea looking to the bench england miss a trick for centurion radio just in time for england batting collapse faith in the future youth at the helm until it goes under united stave off inevitable time warner and aol to merge keep up waging global war desktop icons  no    the qwerty keyboard the sec s files the low down  workplace bullying met  not equipped  to solve murders tranmere tie will not be replayed rebel attacks take toll on russia met lent stopped car to lawrence'"
      ]
     },
     "execution_count": 51,
     "metadata": {},
     "output_type": "execute_result"
    }
   ],
   "source": [
    "headlines[5]"
   ]
  },
  {
   "cell_type": "code",
   "execution_count": 52,
   "id": "f608024a",
   "metadata": {},
   "outputs": [
    {
     "data": {
      "text/plain": [
       "'man utd       south melbourne how north atlantic drift could carry away old firm buoyant bbc to show brazil final live tranmere given all clear in the cup united sit poorly with the doc queen s park peril clouds hampden future waugh hits out at shoaib reprieve knight makes case for butcher s place scoreboard bond is not enough for     star brosnan you just can t help some people blake blasts liverpool out german party leader took cash from arms dealer children s book of the week how low can they go  i d like that in writing split vote may offer natwest takeover escape teaching is for stayers  not sprinters a lesson in respect  now everyone knows we are a good school   what s wrong with giving teachers applause    when i realised i d won i felt sick with shock  no more  tenderness  from stung russian forces inspectors warn pressure might lead officers to take on  easy to solve  cases repairing jack s house'"
      ]
     },
     "execution_count": 52,
     "metadata": {},
     "output_type": "execute_result"
    }
   ],
   "source": [
    "headlines[6]"
   ]
  },
  {
   "cell_type": "code",
   "execution_count": 53,
   "id": "5b6a7c6c",
   "metadata": {},
   "outputs": [
    {
     "data": {
      "text/plain": [
       "'newcastle seek new football supremo liverpool aim to speed up heskey deal highlanders voted up edwards  power play suffers new blow chelsea gamble on weah taylor settles the eternal tie tenth top flight club falls as hodge has final word charlton charge to top german party chief resists calls to resign the beach made a man out of leo  pariah  irving sues holocaust author jack straw s full commons speech batty business books frock consciousness  does it matter what the heroine is wearing  arms to pakistan like minded is it cos i is black  megabucks  out of luck  and what the     cabinet battle rages over ethical foreign policy radio station becomes talk of sport a better breed of dad childish things kids  just say hopscotch smoke without fire press reaction from spain  chile and argentina'"
      ]
     },
     "execution_count": 53,
     "metadata": {},
     "output_type": "execute_result"
    }
   ],
   "source": [
    "headlines[7]"
   ]
  },
  {
   "cell_type": "code",
   "execution_count": 54,
   "id": "a532acdb",
   "metadata": {},
   "outputs": [
    {
     "data": {
      "text/plain": [
       "'bungling officials on the carpet and in the red and raw corner it s  killer  mackenzie united put their shirts on    m england against plan for home nations  revival donald poised to quit test scene adams stares into the abyss money money money tyson to enter britain gas chamber claims impossible  says irving union takes mayoral vote row to court win tickets to the end of the affair irving denies deliberately portraying hitler as  merciful  gallant fulham flunk shoot out hill start leaves tranmere one step from wembley weah strikes right on cue dinner plates  microwave ovens and toast no one can be simultaneously free yet live in fear more doubt on pakistan arms exports another fine mess cybershopping  sportswear how much can you pay for       hillary holds her own on the late show bye  bye american pi tension mounts as straw stands by trial plans harrods loses prince philip s royal warrant'"
      ]
     },
     "execution_count": 54,
     "metadata": {},
     "output_type": "execute_result"
    }
   ],
   "source": [
    "headlines[8]"
   ]
  },
  {
   "cell_type": "code",
   "execution_count": 55,
   "id": "0370b207",
   "metadata": {},
   "outputs": [
    {
     "data": {
      "text/plain": [
       "'pompey plump for pulis work ethic roma under fire over rolexes for referees prenton park two told to take a break ok  i didn t figure in rio but i m still no  with the under   s chelsea tune in to weah s world top storey awaits the cottage west indies unveil fiery next generation donald s killing fields await edgy england cronje low on runs but ending on a captaincy high counties to lose murali and shoaib final to tell tale of two cities tv rivals jostle for soccer club stakes blatter  united gave no boost to world cup bid sunderland recovery will be bad news for bookies england s main fault  they tried too hard schreiber  the man who would topple kings joe ashton s letter of resignation ashton resigns from wednesday board stravinsky  the rake s progress the best waterfront scene incompetence  insult and injury finding the time england take six on rain shortened first day media sale nets chris evans a    m  divvy  scissors at dawn'"
      ]
     },
     "execution_count": 55,
     "metadata": {},
     "output_type": "execute_result"
    }
   ],
   "source": [
    "headlines[9]"
   ]
  },
  {
   "cell_type": "code",
   "execution_count": 56,
   "id": "1ef2c245",
   "metadata": {},
   "outputs": [
    {
     "data": {
      "text/plain": [
       "'england s elite set for pay struggle robson puts his job on the line old firm lobby to replace uefa cup babbel to check in at anfield for muralitharan read macgill all padded up with nowhere to go individuals who support the alliance the best omen scene the patent importance of our genetic blueprint german opposition crisis as party meets on scandal a high not to be sniffed at just you wait the one that got away feel the quality the whole story plus points dicaprio considering anakin skywalker role  no question  of a decision on pinochet today tesco s silence refuels m s rumour irving claims mad or mendacious  court told moratti joins gmg in venture capital firm peak practice sex claims criticised baddiel and skinner back for itv outright quackery how to avoid the quacks'"
      ]
     },
     "execution_count": 56,
     "metadata": {},
     "output_type": "execute_result"
    }
   ],
   "source": [
    "headlines[10]"
   ]
  },
  {
   "cell_type": "code",
   "execution_count": 57,
   "id": "6c2b27de",
   "metadata": {},
   "outputs": [
    {
     "data": {
      "text/plain": [
       "'no apologies from the captains for contrived finale one off deal sets up hussain test victory old trafford in talks to reduce yorke s national service draper sets out his stall in madrid forest giant still standing adams stays on arsenal injury roll the young and the witless indian outing for donald at last the health service has something to celebrate housing  transatlantic warning hick and the england viii flourish in obscurity defiant banks insists wembley could host athletics why straw plans to ditch defendants  right to choose intensive farms threaten wildlife agent provocateur the case against ken livingstone rumours of talks as russians continue chechen assault deeper into the mire your millennium poems kohl forced out as sch uble clings on my life on the net  david long  reclaim the streets activist tips on getting more efficiency out of women employees policing  stop and think  a police service that can enjoy widespread support from the community as a whole  blair rebukes hague on crime and health'"
      ]
     },
     "execution_count": 57,
     "metadata": {},
     "output_type": "execute_result"
    }
   ],
   "source": [
    "headlines[11]"
   ]
  },
  {
   "cell_type": "code",
   "execution_count": 58,
   "id": "e3f78bd9",
   "metadata": {},
   "outputs": [
    {
     "data": {
      "text/plain": [
       "'homes alone won t make us world beaters wembley crackdown on pirate hospitality keegan calls for pay curb backing for saint jones leboeuf rises to bates south africa test averages wasim loses way after milestone swann asked to hang around rousing finale to an old refrain lords back trial by jury hollywood star hedy lamarr dies lords reform britain s ethical foreign policy  keeping the hawk jets in action the   bn conflict of interest should you be investing in your future  is postgraduate study for you  turn these clients away the generals profit as the people pay with their lives the wakeham commission recommendations vanessa feltz returns to daytime television tesco leads the world online growth and profit cybersurfing  window shopping on the web bargain hunting   how to compare prices cybershopping s    favourite sites falling for vertigo by wg sebald'"
      ]
     },
     "execution_count": 58,
     "metadata": {},
     "output_type": "execute_result"
    }
   ],
   "source": [
    "headlines[12]"
   ]
  },
  {
   "cell_type": "code",
   "execution_count": 59,
   "id": "08074e57",
   "metadata": {},
   "outputs": [
    {
     "data": {
      "text/plain": [
       "'never mind tyson  we is the tops at melting the plastic keegan faces german test first magpies swoop on sparrowhawk investors call on ashton to end campaign all wright  celtic striker is not a secret agent under   s make sad exit from world cup england lines up all asian finale scoreboard england fumble for safe keeping south africa try to oust president the empty chamber leader  who doesn t dare  loses reformed chamber presented as  radical evolution  win edgar davids  boots soccer s injured cry foul voices from spain internet delivery may be future of video business school puts its faith in ex fundraiser degree evolves to meet your needs harness the e commerce explosion case two   a long  hard  lonely road   but it helped me to progress  case three   discipline and hard work are essential   but i m glad i did it  how to maximise your employment potential phd rewards are high if you don t lose your patience   or your mind     m to run school pay system'"
      ]
     },
     "execution_count": 59,
     "metadata": {},
     "output_type": "execute_result"
    }
   ],
   "source": [
    "headlines[13]"
   ]
  },
  {
   "cell_type": "code",
   "execution_count": 60,
   "id": "09f02c39",
   "metadata": {},
   "outputs": [
    {
     "data": {
      "text/plain": [
       "'lee puts the skids on pakistan jim swanton dies at    wilson proposes a loyal toast wigan held by peers weah warms to hot spot town rise to pitch battle taylor rages at the watford gap robson turning white by mistake owen s medical mystery deepens leicester call for collymore jones rallies to the spirit of shankly john adds to agony hunt hat trick does not please curbishley derby miss the points of daring brown eclipses old blue moon bassett pulls the tykes together agile gould spares ring rusty celtic s blushes european scores and tables big top is full of holes as circus returns to town third division round up second division round up first division round up zidane shines as juve win again in a world of his own laurel and hardy comedy classics'"
      ]
     },
     "execution_count": 60,
     "metadata": {},
     "output_type": "execute_result"
    }
   ],
   "source": [
    "headlines[14]"
   ]
  },
  {
   "cell_type": "code",
   "execution_count": 61,
   "id": "8a4aa3c7",
   "metadata": {},
   "outputs": [
    {
     "data": {
      "text/plain": [
       "'dazzler is back and england are beaming rivaldo shoo in  brazilian is world player of year stealthy spurs swoop for teenager fans talk when the premier goes to the people gregory is keen to bag heskey double vision for euro      dalglish given official warning harry potter and the prisoner of azkaban by jk rowling berlioz  servitude and greatness by david cairns white city blue by tim lott music and silence by rose tremain beowulf by seamus heaney useful links a morass of welsh emotion lib dems face row after tuition fees climbdown lib dems face row after tuition fees climbdown away with our heavy burden class acts my inspiration lunchtime learning new uk brand is launched letters health and safety at work seeing is believing three s company'"
      ]
     },
     "execution_count": 61,
     "metadata": {},
     "output_type": "execute_result"
    }
   ],
   "source": [
    "headlines[15]"
   ]
  },
  {
   "cell_type": "code",
   "execution_count": 62,
   "id": "ba4353e8",
   "metadata": {},
   "outputs": [
    {
     "data": {
      "text/plain": [
       "'best go for georgie and sack good time charlton wright facing lengthy ban for outburst dream script for kenwright bradford shun   m collymore villa stall on leicester grit ganguly gives india a lift town planning  harbouring doubts caddick at one with the new regime atherton calls for end to county game labour sets pace for far reaching change student dismay at fees  sell out  blunkett to beat drum for party s achievements no poison supply at auschwitz  says irving opposition fury at scottish fees deal day of reckoning nears as glenda is accused of  collaboration  white teeth by zadie smith looking for glamour at the whitbread ceremony land of plenty vandevelde offers fresh upheaval for m s board watchdog moves to curb racist websites hanged men  victims of racists  great grannies  greek gripes and gregory grant a virtual life the kiss of death  dear dilys  are you really this selfish  '"
      ]
     },
     "execution_count": 62,
     "metadata": {},
     "output_type": "execute_result"
    }
   ],
   "source": [
    "headlines[16]"
   ]
  },
  {
   "cell_type": "code",
   "execution_count": 63,
   "id": "98bfce2e",
   "metadata": {},
   "outputs": [
    {
     "data": {
      "text/plain": [
       "'lancashire target tendulkar the tyke early shock for england atherton in dock for county attack valiant england come up short by one run tranmere make final offer liverpool ready to gamble with ravanelli hillsborough eyes new technology flying scots are chuffed ferguson targets brazilian dida in keeper quest crocked players in legal threat the man from out of toon work in progress the russians spent decades getting hold of pictures like these  now anyone can order them on the net what is the millennium map  social trends state of the union address doctors of death m s hopes for brighter future by ditching dowdy image straw extends race bill pathologist s doubts on  suicide  hanging scurrilous jigsaws  special cakes and squashed kittens web versus high street guardian group gets a new chairman how much can you pay for       buy now  regret later '"
      ]
     },
     "execution_count": 63,
     "metadata": {},
     "output_type": "execute_result"
    }
   ],
   "source": [
    "headlines[17]"
   ]
  },
  {
   "cell_type": "code",
   "execution_count": 64,
   "id": "4c3193fd",
   "metadata": {},
   "outputs": [
    {
     "data": {
      "text/plain": [
       "'carlton ratings rise at new midlands station united shake up the young brigade svensson departs as palace pay their way running scared of bad company bradford back for stan robson can save his scalp at old trafford dismal england but that is no surprise abject england fold without a whimper through the ulster time warp tim roth and pinter take on king lear national trust rejects move to end ban on stag hunting hatching dora marketing professor is best paid academic   on          a year the cubie report explained crisis hit mugabe has luck of the draw mr straw sees the light town denies racism amid media scrutiny of hangings yard race unit aids telford hangings inquiry beowulf bowls out harry potter for second award joining the dots anything goes most wanted   boo com sale most everywhere   karma beads diplomacy for democracy diplomacy for democracy'"
      ]
     },
     "execution_count": 64,
     "metadata": {},
     "output_type": "execute_result"
    }
   ],
   "source": [
    "headlines[18]"
   ]
  },
  {
   "cell_type": "code",
   "execution_count": 65,
   "id": "9bf20293",
   "metadata": {},
   "outputs": [
    {
     "data": {
      "text/plain": [
       "'nationwide third division nationwide second division nationwide first division birmingham three face italian charges rangers make light of perilous defence computer problem delays endeavour s launch nasa clears endeavour s engines for launch inquiry and helpline for shipman victims more murder charges could be brought pressure for universal education campaign i d like to teach the world reaction to the verdict how the shipman trial unfolded police interview  winifred mellor police interview  kathleen grundy shipman found guilty of murdering    patients new party threatens mugabe two views from harare cretins  blabbermouths and john gregory shipman was sacked for drug abuse  a tragic and deeply disturbing case  the role of toxicology inside preston crown court denial upon falsehood upon deceit irving not anti semitic  claims us professor'"
      ]
     },
     "execution_count": 65,
     "metadata": {},
     "output_type": "execute_result"
    }
   ],
   "source": [
    "headlines[19]"
   ]
  },
  {
   "cell_type": "code",
   "execution_count": 66,
   "id": "d50fdaeb",
   "metadata": {},
   "outputs": [
    {
     "data": {
      "text/plain": [
       "'double delight for shearer even ferguson wants a more peaceful accommodation owen in doubt for euro      new sponsor for old trafford claridge in trouble over bet on pompey world cup a hit   official hussain backs floodlight age william hague s new cabinet  in plain speaking you murdered her  blunt blair to tell farmers  uncomfortable truth  portillo back as shadow chancellor computer problem delays endeavour launch for a week doctor s name joins ranks of world s worst murderers marking crisis hits a levels  a way of fighting poverty  ministers back universal schooling drive crash course in chaos shocks the minister economic crisis   empty desks internet promises salvation   or an even bigger knowledge gap a school triumphs amid the shacks fee free zone where the young learn all of society benefits a guide to valentine s day shopping on the net  the lessons of the shipman case  government launches inquiry into shipman murders'"
      ]
     },
     "execution_count": 66,
     "metadata": {},
     "output_type": "execute_result"
    }
   ],
   "source": [
    "headlines[20]"
   ]
  },
  {
   "cell_type": "code",
   "execution_count": 67,
   "id": "2a309f16",
   "metadata": {},
   "outputs": [
    {
     "data": {
      "text/plain": [
       "'hospital case english women fall apart in third defeat kick flicks are coming soon to a cinema near you italy orders anti fascist snatch squads at lazio specialist consigns owen to month on the sidelines leboeuf banned as vialli plots comeback debts force airdrie into liquidation housing  where the heart is zimbabwe visit under threat bates blasts  meddling  ministers the farmer s in his den pm tells farmers to be flexible hague s big gamble win tickets to the fifth element and dan weil q a lions lie in wait for their hobbling hosts redwood  shocked  at sacking germany and france condemn haider deserving a chance  denying a rumour and delivering a statement lawyer s record payout after race bias at cps race team joins hanging inquiry into telford deaths father of hanged telford man dismisses race murder claims shock exchange blair peace plea as talks continue haider  son of nazis who defies labels austria defies isolation threats'"
      ]
     },
     "execution_count": 67,
     "metadata": {},
     "output_type": "execute_result"
    }
   ],
   "source": [
    "headlines[21]"
   ]
  },
  {
   "cell_type": "code",
   "execution_count": 68,
   "id": "2729cd75",
   "metadata": {},
   "outputs": [
    {
     "data": {
      "text/plain": [
       "'scoreboard flower power clears path to summit for zimbabwe stricken swindon send out financial sos hot stuff from the ice fields euro fringe threat to english players chairman s wife arrested vidmar sets rangers on a romp electric elliott puts leicester into final sheringham s timely touch mandelson takes power to suspend assembly president agrees to far right coalition blair hits out at countryside critics blair s rural ride we ll have no country bumpkins here consultants sent in as three leas condemned leeds lea calls in the consultants pressure grows for a universal campaign reuters poised to float instinet nigeria       morocco nigeria       morocco fed piles on rate pressure putting us in the picture hanged man s family lodge racism protest share tipping sam wood  a night at the opera'"
      ]
     },
     "execution_count": 68,
     "metadata": {},
     "output_type": "execute_result"
    }
   ],
   "source": [
    "headlines[22]"
   ]
  },
  {
   "cell_type": "code",
   "execution_count": 69,
   "id": "880536b7",
   "metadata": {},
   "outputs": [
    {
     "data": {
      "text/plain": [
       "'vialli will play only in  emergency  safety first dons to let sullivan go bold pollock pinches victory leicester rage over fa ticket charges hussain prays for final judgment atherton s view in the minority rear window a room for romeo brass the big tease football    hollywood   toy story     film review toy story   england fiasco ends smithies era the best pet scene norman bows to pressure to ends links with asda students owe     m tuition fees win tickets to the talented mr ripley premiere and aftershow party radical or reactionary  john hannah digital grocers cater for wealthy ebookers spreads european wings singh picked to lead cre school suspends race abuse victim today s other news the whole world in his hand'"
      ]
     },
     "execution_count": 69,
     "metadata": {},
     "output_type": "execute_result"
    }
   ],
   "source": [
    "headlines[23]"
   ]
  },
  {
   "cell_type": "code",
   "execution_count": 70,
   "id": "f89e37e4",
   "metadata": {},
   "outputs": [
    {
     "data": {
      "text/plain": [
       "'fletcher backs hick to the hilt south africa ensure final place third division round up second division round up first division round up international football latest calls mount for barnes to resign wise cracks it for keegan wenger concedes as two deans teach a painful lesson wednesday on suicide watch taylor fits into royle s pattern stewart proves his worth at bassett s expense saint hoddle sees only a green light phillips puts tyneside under spell miller issues rangers with a warning merson the fat controller derails taylor hunt fetches and carries a hatful nigeria overcome heroic senegal collymore not a gamble says o neill cole carries the united dream bracewell silences cottage rumour mill ashcroft deepens swindon s despair campbell s fling has dons reeling enduring love lions lack bite but still book semi spot'"
      ]
     },
     "execution_count": 70,
     "metadata": {},
     "output_type": "execute_result"
    }
   ],
   "source": [
    "headlines[24]"
   ]
  },
  {
   "cell_type": "code",
   "execution_count": 71,
   "id": "397c9b9b",
   "metadata": {},
   "outputs": [
    {
     "data": {
      "text/plain": [
       "'wayward shoaib told suspension will stay maddy drums up yet more enthusiasm zola suffers indignity of reserves reed in hot water over goal salute ferguson faces transfer battle as monaco hang on to djetou cold war erupts again as russia claims  snub  brown defiant in welsh deadlock smoking as addictive as heroin  say doctors pinochet campaigners win legal battle section      what the papers say highlights of the lords debate government to change tack on section    not the people s paper contract talks  initial bids and inevitable speculation nicotine addiction   what the report says why hijack  a warning from stansted  ladies and gentleman  there s a young man on board who has a gun pointed at my head  thousands stranded by cancelled flights jailed warlord who inspires loyalty calm and calculated approach that aims for peaceful solution speaking as a dalek diary of a hypochondriac try plan b for birth control bad genes'"
      ]
     },
     "execution_count": 71,
     "metadata": {},
     "output_type": "execute_result"
    }
   ],
   "source": [
    "headlines[25]"
   ]
  },
  {
   "cell_type": "code",
   "execution_count": 38,
   "id": "37207341",
   "metadata": {},
   "outputs": [],
   "source": [
    "from sklearn.feature_extraction.text import CountVectorizer\n",
    "from sklearn.ensemble import RandomForestClassifier"
   ]
  },
  {
   "cell_type": "code",
   "execution_count": 39,
   "id": "1e9230b1",
   "metadata": {},
   "outputs": [],
   "source": [
    "## implement BAG OF WORDS\n",
    "countvector=CountVectorizer(ngram_range=(2,2))\n",
    "traindataset=countvector.fit_transform(headlines)"
   ]
  },
  {
   "cell_type": "code",
   "execution_count": 45,
   "id": "d56dd997",
   "metadata": {},
   "outputs": [
    {
     "data": {
      "text/html": [
       "<style>#sk-container-id-3 {color: black;background-color: white;}#sk-container-id-3 pre{padding: 0;}#sk-container-id-3 div.sk-toggleable {background-color: white;}#sk-container-id-3 label.sk-toggleable__label {cursor: pointer;display: block;width: 100%;margin-bottom: 0;padding: 0.3em;box-sizing: border-box;text-align: center;}#sk-container-id-3 label.sk-toggleable__label-arrow:before {content: \"▸\";float: left;margin-right: 0.25em;color: #696969;}#sk-container-id-3 label.sk-toggleable__label-arrow:hover:before {color: black;}#sk-container-id-3 div.sk-estimator:hover label.sk-toggleable__label-arrow:before {color: black;}#sk-container-id-3 div.sk-toggleable__content {max-height: 0;max-width: 0;overflow: hidden;text-align: left;background-color: #f0f8ff;}#sk-container-id-3 div.sk-toggleable__content pre {margin: 0.2em;color: black;border-radius: 0.25em;background-color: #f0f8ff;}#sk-container-id-3 input.sk-toggleable__control:checked~div.sk-toggleable__content {max-height: 200px;max-width: 100%;overflow: auto;}#sk-container-id-3 input.sk-toggleable__control:checked~label.sk-toggleable__label-arrow:before {content: \"▾\";}#sk-container-id-3 div.sk-estimator input.sk-toggleable__control:checked~label.sk-toggleable__label {background-color: #d4ebff;}#sk-container-id-3 div.sk-label input.sk-toggleable__control:checked~label.sk-toggleable__label {background-color: #d4ebff;}#sk-container-id-3 input.sk-hidden--visually {border: 0;clip: rect(1px 1px 1px 1px);clip: rect(1px, 1px, 1px, 1px);height: 1px;margin: -1px;overflow: hidden;padding: 0;position: absolute;width: 1px;}#sk-container-id-3 div.sk-estimator {font-family: monospace;background-color: #f0f8ff;border: 1px dotted black;border-radius: 0.25em;box-sizing: border-box;margin-bottom: 0.5em;}#sk-container-id-3 div.sk-estimator:hover {background-color: #d4ebff;}#sk-container-id-3 div.sk-parallel-item::after {content: \"\";width: 100%;border-bottom: 1px solid gray;flex-grow: 1;}#sk-container-id-3 div.sk-label:hover label.sk-toggleable__label {background-color: #d4ebff;}#sk-container-id-3 div.sk-serial::before {content: \"\";position: absolute;border-left: 1px solid gray;box-sizing: border-box;top: 0;bottom: 0;left: 50%;z-index: 0;}#sk-container-id-3 div.sk-serial {display: flex;flex-direction: column;align-items: center;background-color: white;padding-right: 0.2em;padding-left: 0.2em;position: relative;}#sk-container-id-3 div.sk-item {position: relative;z-index: 1;}#sk-container-id-3 div.sk-parallel {display: flex;align-items: stretch;justify-content: center;background-color: white;position: relative;}#sk-container-id-3 div.sk-item::before, #sk-container-id-3 div.sk-parallel-item::before {content: \"\";position: absolute;border-left: 1px solid gray;box-sizing: border-box;top: 0;bottom: 0;left: 50%;z-index: -1;}#sk-container-id-3 div.sk-parallel-item {display: flex;flex-direction: column;z-index: 1;position: relative;background-color: white;}#sk-container-id-3 div.sk-parallel-item:first-child::after {align-self: flex-end;width: 50%;}#sk-container-id-3 div.sk-parallel-item:last-child::after {align-self: flex-start;width: 50%;}#sk-container-id-3 div.sk-parallel-item:only-child::after {width: 0;}#sk-container-id-3 div.sk-dashed-wrapped {border: 1px dashed gray;margin: 0 0.4em 0.5em 0.4em;box-sizing: border-box;padding-bottom: 0.4em;background-color: white;}#sk-container-id-3 div.sk-label label {font-family: monospace;font-weight: bold;display: inline-block;line-height: 1.2em;}#sk-container-id-3 div.sk-label-container {text-align: center;}#sk-container-id-3 div.sk-container {/* jupyter's `normalize.less` sets `[hidden] { display: none; }` but bootstrap.min.css set `[hidden] { display: none !important; }` so we also need the `!important` here to be able to override the default hidden behavior on the sphinx rendered scikit-learn.org. See: https://github.com/scikit-learn/scikit-learn/issues/21755 */display: inline-block !important;position: relative;}#sk-container-id-3 div.sk-text-repr-fallback {display: none;}</style><div id=\"sk-container-id-3\" class=\"sk-top-container\"><div class=\"sk-text-repr-fallback\"><pre>RandomForestClassifier(criterion=&#x27;entropy&#x27;, n_estimators=200)</pre><b>In a Jupyter environment, please rerun this cell to show the HTML representation or trust the notebook. <br />On GitHub, the HTML representation is unable to render, please try loading this page with nbviewer.org.</b></div><div class=\"sk-container\" hidden><div class=\"sk-item\"><div class=\"sk-estimator sk-toggleable\"><input class=\"sk-toggleable__control sk-hidden--visually\" id=\"sk-estimator-id-3\" type=\"checkbox\" checked><label for=\"sk-estimator-id-3\" class=\"sk-toggleable__label sk-toggleable__label-arrow\">RandomForestClassifier</label><div class=\"sk-toggleable__content\"><pre>RandomForestClassifier(criterion=&#x27;entropy&#x27;, n_estimators=200)</pre></div></div></div></div></div>"
      ],
      "text/plain": [
       "RandomForestClassifier(criterion='entropy', n_estimators=200)"
      ]
     },
     "execution_count": 45,
     "metadata": {},
     "output_type": "execute_result"
    }
   ],
   "source": [
    "# implement RandomForest Classifier\n",
    "randomclassifier=RandomForestClassifier(n_estimators=200,criterion='entropy')\n",
    "randomclassifier.fit(traindataset,train['Label'])"
   ]
  },
  {
   "cell_type": "code",
   "execution_count": 46,
   "id": "36fb6c33",
   "metadata": {},
   "outputs": [],
   "source": [
    "## Predict for the Test Dataset\n",
    "test_transform= []\n",
    "for row in range(0,len(test.index)):\n",
    "    test_transform.append(' '.join(str(x) for x in test.iloc[row,2:27]))\n",
    "test_dataset = countvector.transform(test_transform)\n",
    "predictions = randomclassifier.predict(test_dataset)"
   ]
  },
  {
   "cell_type": "code",
   "execution_count": 47,
   "id": "7227c44d",
   "metadata": {},
   "outputs": [],
   "source": [
    "## Import library to check accuracy\n",
    "from sklearn.metrics import classification_report,confusion_matrix,accuracy_score"
   ]
  },
  {
   "cell_type": "code",
   "execution_count": 48,
   "id": "80cb8bd3",
   "metadata": {},
   "outputs": [
    {
     "name": "stdout",
     "output_type": "stream",
     "text": [
      "[[139  47]\n",
      " [  9 183]]\n",
      "0.8518518518518519\n",
      "              precision    recall  f1-score   support\n",
      "\n",
      "           0       0.94      0.75      0.83       186\n",
      "           1       0.80      0.95      0.87       192\n",
      "\n",
      "    accuracy                           0.85       378\n",
      "   macro avg       0.87      0.85      0.85       378\n",
      "weighted avg       0.87      0.85      0.85       378\n",
      "\n"
     ]
    }
   ],
   "source": [
    "matrix=confusion_matrix(test['Label'],predictions)\n",
    "print(matrix)\n",
    "score=accuracy_score(test['Label'],predictions)\n",
    "print(score)\n",
    "report=classification_report(test['Label'],predictions)\n",
    "print(report)"
   ]
  },
  {
   "cell_type": "markdown",
   "id": "a70e05a3",
   "metadata": {},
   "source": [
    "<p>Hence, The acccuracy is 85% and Precision is 95%. </p>"
   ]
  },
  {
   "cell_type": "markdown",
   "id": "6d1019a9",
   "metadata": {},
   "source": []
  }
 ],
 "metadata": {
  "kernelspec": {
   "display_name": "Python 3 (ipykernel)",
   "language": "python",
   "name": "python3"
  },
  "language_info": {
   "codemirror_mode": {
    "name": "ipython",
    "version": 3
   },
   "file_extension": ".py",
   "mimetype": "text/x-python",
   "name": "python",
   "nbconvert_exporter": "python",
   "pygments_lexer": "ipython3",
   "version": "3.11.3"
  }
 },
 "nbformat": 4,
 "nbformat_minor": 5
}
